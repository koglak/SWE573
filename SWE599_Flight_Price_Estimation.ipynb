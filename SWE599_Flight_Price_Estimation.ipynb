{
  "nbformat": 4,
  "nbformat_minor": 0,
  "metadata": {
    "colab": {
      "provenance": [],
      "authorship_tag": "ABX9TyOPOTKDJ8+IK6MMeOf24sI8",
      "include_colab_link": true
    },
    "kernelspec": {
      "name": "python3",
      "display_name": "Python 3"
    },
    "language_info": {
      "name": "python"
    }
  },
  "cells": [
    {
      "cell_type": "markdown",
      "metadata": {
        "id": "view-in-github",
        "colab_type": "text"
      },
      "source": [
        "<a href=\"https://colab.research.google.com/github/koglak/SWE573/blob/main/SWE599_Flight_Price_Estimation.ipynb\" target=\"_parent\"><img src=\"https://colab.research.google.com/assets/colab-badge.svg\" alt=\"Open In Colab\"/></a>"
      ]
    },
    {
      "cell_type": "code",
      "execution_count": 1,
      "metadata": {
        "colab": {
          "base_uri": "https://localhost:8080/",
          "height": 373
        },
        "id": "Kt1Rr3s8X_6L",
        "outputId": "823a3420-764e-4513-aa0c-7afee5bfb7f1"
      },
      "outputs": [
        {
          "output_type": "error",
          "ename": "ModuleNotFoundError",
          "evalue": "ignored",
          "traceback": [
            "\u001b[0;31m---------------------------------------------------------------------------\u001b[0m",
            "\u001b[0;31mModuleNotFoundError\u001b[0m                       Traceback (most recent call last)",
            "\u001b[0;32m<ipython-input-1-17ea34ec1563>\u001b[0m in \u001b[0;36m<module>\u001b[0;34m\u001b[0m\n\u001b[0;32m----> 1\u001b[0;31m \u001b[0;32mfrom\u001b[0m \u001b[0mselenium\u001b[0m \u001b[0;32mimport\u001b[0m \u001b[0mwebdriver\u001b[0m\u001b[0;34m\u001b[0m\u001b[0;34m\u001b[0m\u001b[0m\n\u001b[0m\u001b[1;32m      2\u001b[0m \u001b[0;32mfrom\u001b[0m \u001b[0mselenium\u001b[0m\u001b[0;34m.\u001b[0m\u001b[0mwebdriver\u001b[0m\u001b[0;34m.\u001b[0m\u001b[0mcommon\u001b[0m\u001b[0;34m.\u001b[0m\u001b[0mby\u001b[0m \u001b[0;32mimport\u001b[0m \u001b[0mBy\u001b[0m\u001b[0;34m\u001b[0m\u001b[0;34m\u001b[0m\u001b[0m\n\u001b[1;32m      3\u001b[0m \u001b[0;32mfrom\u001b[0m \u001b[0mselenium\u001b[0m\u001b[0;34m.\u001b[0m\u001b[0mwebdriver\u001b[0m\u001b[0;34m.\u001b[0m\u001b[0mcommon\u001b[0m\u001b[0;34m.\u001b[0m\u001b[0mkeys\u001b[0m \u001b[0;32mimport\u001b[0m \u001b[0mKeys\u001b[0m\u001b[0;34m\u001b[0m\u001b[0;34m\u001b[0m\u001b[0m\n\u001b[1;32m      4\u001b[0m \u001b[0;32mimport\u001b[0m \u001b[0mselenium\u001b[0m\u001b[0;34m.\u001b[0m\u001b[0mcommon\u001b[0m\u001b[0;34m.\u001b[0m\u001b[0mexceptions\u001b[0m \u001b[0;32mas\u001b[0m \u001b[0mselexcept\u001b[0m\u001b[0;34m\u001b[0m\u001b[0;34m\u001b[0m\u001b[0m\n\u001b[1;32m      5\u001b[0m \u001b[0;32mfrom\u001b[0m \u001b[0mselenium\u001b[0m\u001b[0;34m.\u001b[0m\u001b[0mwebdriver\u001b[0m\u001b[0;34m.\u001b[0m\u001b[0mchrome\u001b[0m\u001b[0;34m.\u001b[0m\u001b[0mservice\u001b[0m \u001b[0;32mimport\u001b[0m \u001b[0mService\u001b[0m\u001b[0;34m\u001b[0m\u001b[0;34m\u001b[0m\u001b[0m\n",
            "\u001b[0;31mModuleNotFoundError\u001b[0m: No module named 'selenium'",
            "",
            "\u001b[0;31m---------------------------------------------------------------------------\u001b[0;32m\nNOTE: If your import is failing due to a missing package, you can\nmanually install dependencies using either !pip or !apt.\n\nTo view examples of installing some common dependencies, click the\n\"Open Examples\" button below.\n\u001b[0;31m---------------------------------------------------------------------------\u001b[0m\n"
          ],
          "errorDetails": {
            "actions": [
              {
                "action": "open_url",
                "actionText": "Open Examples",
                "url": "/notebooks/snippets/importing_libraries.ipynb"
              }
            ]
          }
        }
      ],
      "source": [
        "from selenium import webdriver\n",
        "from selenium.webdriver.common.by import By\n",
        "from selenium.webdriver.common.keys import Keys\n",
        "import selenium.common.exceptions as selexcept\n",
        "from selenium.webdriver.chrome.service import Service\n",
        "from webdriver_manager.chrome import ChromeDriverManager\n",
        "import logging\n",
        "\n",
        "import pandas as pd\n",
        "from datetime import datetime\n",
        "import os.path\n",
        "import re\n",
        "import sys\n",
        "import glob\n",
        "import time\n"
      ]
    },
    {
      "cell_type": "code",
      "source": [
        "date_list = pd.date_range(start='14.11.2022',end='14.12.2022').strftime('%d.%m.%Y').tolist()\n",
        "\n",
        "airports=[[\"izmir\", \"adnan-menderes-havalimani\",\"adb\"],\n",
        "          [\"ankara\", \"esenboga-havalimani\",\"esb\"],\n",
        "          [\"antalya\",\"havalimani\",\"ayt\"],\n",
        "          [\"adana\",\"sakir-pasa-havalimani\",\"ada\"],\n",
        "          [\"bodrum\",\"milas-havalimani\",\"bjv\"],\n",
        "          [\"dalaman\",\"havalimani\",\"dlm\"],\n",
        "          [\"trabzon\",\"havalimani\",\"tzx\"],\n",
        "          [\"gaziantep\",\"oguzeli-havalimani\",\"gzt\"],\n",
        "          [\"diyarbakir\",\"havalimani\",\"diy\"],\n",
        "          [\"hatay\",\"havalimani\",\"hty\"],\n",
        "          [\"kars\",\"havalimani\",\"ksy\"],\n",
        "          [\"erzurum\",\"havalimani\",\"erz\"],\n",
        "          [\"mardin\",\"havalimani\",\"mqm\"],\n",
        "]"
      ],
      "metadata": {
        "id": "3HK6zCChM9eR"
      },
      "execution_count": null,
      "outputs": []
    },
    {
      "cell_type": "code",
      "source": [
        "URLs=[]\n",
        "file_name=[]\n",
        "for date_len in range(0,len(date_list)):\n",
        "    for dep in range(0,len(airports)):\n",
        "        url= \"https://www.enuygun.com/ucak-bileti/istanbul-\"+ airports[dep][0]+\"-\"+airports[dep][1]+\"-ista-\"+airports[dep][2]+\"/?gidis=\"+date_list[date_len]+\"&yetiskin=1&sinif=ekonomi&aktarmasiz=1&save=1&geotrip=domestic&trip=domestic\"\n",
        "        URLs.append(url)\n",
        "        file_name.append(airports[dep][0]+\"-\"+date_list[date_len].replace(\".\",\"-\"))"
      ],
      "metadata": {
        "id": "sEg9Pjc9NFZA"
      },
      "execution_count": null,
      "outputs": []
    },
    {
      "cell_type": "code",
      "source": [
        "count=0\n",
        "#driver = webdriver.Chrome(service=Service(ChromeDriverManager().install()))\n",
        "\n",
        "try:\n",
        "    for num in range(0,len(URLs)):\n",
        "        #run driver on Chrome\n",
        "        with webdriver.Chrome(service=Service(ChromeDriverManager().install())) as driver:\n",
        "            driver.get(URLs[num])\n",
        "            time.sleep(2)\n",
        "        \n",
        "            #get flights\n",
        "            flights= driver.find_elements(By.CLASS_NAME, \"flight-summary-infos\")\n",
        "            flights_list=[]\n",
        "\n",
        "            #push each flight info to flights_list\n",
        "            for flight in flights: \n",
        "                checked_date=datetime.now().strftime(\"%d/%m/%Y %H:%M\")\n",
        "                company= flight.find_elements(By.CLASS_NAME, \"summary-marketing-airlines\")[0].text\n",
        "                departure_airport= flight.find_elements(By.CLASS_NAME, \"itemAirport\")[0].text\n",
        "                arrival_airport= flight.find_elements(By.CLASS_NAME, \"itemAirport\")[2].text\n",
        "                departure_time= flight.find_elements(By.CLASS_NAME, \"flight-departure-time\")[0].text\n",
        "                arrival_time= flight.find_elements(By.CLASS_NAME, \"flight-arrival-time\")[0].text\n",
        "                departure_date= flight.find_elements(By.XPATH, \"//*[@id='SearchRoot']/div/div[1]/div/div[1]/div\")[0].text.split('|')[1]\n",
        "                duration= flight.find_elements(By.XPATH, \"//*[@id='SearchRoot']/div/div[2]/div[2]/div/div[2]/div[1]/div/div[2]/div[1]/div/div[1]/div[2]/div/div[3]/div[2]/span\")[0].text\n",
        "                price= flight.find_elements(By.CLASS_NAME, \"money-int\")[0].text + flight.find_elements(By.CLASS_NAME, \"money-decimal\")[0].text\n",
        "\n",
        "                flight_item={\n",
        "                    'checked_date':checked_date,\n",
        "                    'company':company,\n",
        "                    'departure_airport':departure_airport,\n",
        "                    'arrival_airport': arrival_airport,\n",
        "                    'departure_time': departure_time,\n",
        "                    'arrival_time': arrival_time,\n",
        "                    'departure_date':departure_date,\n",
        "                    'duration': duration,\n",
        "                    'price':price,\n",
        "                }\n",
        "\n",
        "                flights_list.append(flight_item)\n",
        "\n",
        "                # close browser\n",
        "\n",
        "                #convert dataframe\n",
        "                df=pd.DataFrame(flights_list)\n",
        "                #save to local file\n",
        "                df.to_csv(r'C:\\Users\\kogla\\OneDrive\\Masaüstü\\SWE599\\dataset\\{}.csv'.format(file_name[num]), index = True, header=True)\n",
        "\n",
        "                count=+1\n",
        "            \n",
        "except Exception as e:\n",
        "    print(count)\n",
        "    logging.error(e, exc_info=True)\n",
        "    pass\n",
        "    "
      ],
      "metadata": {
        "id": "KkKcDdF6NI7P"
      },
      "execution_count": null,
      "outputs": []
    }
  ]
}